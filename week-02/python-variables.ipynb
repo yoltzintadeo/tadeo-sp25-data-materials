{
 "cells": [
  {
   "cell_type": "markdown",
   "metadata": {},
   "source": [
    "_Acknowledgement: This tutorial is a modified version of [Melanie Walsh's tutorial](https://melaniewalsh.github.io/Intro-Cultural-Analytics/02-Python/04-Variables.html)._ 🙏"
   ]
  },
  {
   "cell_type": "markdown",
   "metadata": {},
   "source": [
    "### ⚠️ Before you start ⚠️ \n",
    "_Duplicate this Jupyter Notebook in your `week-02` folder (right-click -> Duplicate) and then your last name to the beginning of it (ie. `blevins-python-variables.ipynb` - otherwise you risk having all your work overwritten when you try to sync your GitHub repository with your instructor's repository._ "
   ]
  },
  {
   "cell_type": "markdown",
   "metadata": {},
   "source": [
    "⚠️ _No, seriously: check the name of this file. Is it the copy you made? (ie. `blevins-python-variables.ipynb`). If so, you can proceed_ ⚠️"
   ]
  },
  {
   "cell_type": "markdown",
   "metadata": {},
   "source": [
    "# Variables"
   ]
  },
  {
   "cell_type": "markdown",
   "metadata": {},
   "source": [
    "Variables are one of the fundamental building blocks of Python (or any coding language). A variable is like a tiny container or box 🎁 where you store things, such as filenames, words, numbers, collections of words and numbers, and more. You can then take these boxes and move them around, send them places, perform actions on whatever is inside it, etc."
   ]
  },
  {
   "cell_type": "markdown",
   "metadata": {},
   "source": [
    "## Assigning Variables"
   ]
  },
  {
   "cell_type": "markdown",
   "metadata": {},
   "source": [
    "Each variable needs to be \"assigned\" - ie. given a name. This is the equivalent of adding a label to the outside of the box. The label itself doesn't change what is inside the box, but generally speaking you want it to be descriptive of what _type_ of stuff is inside it. So if I added a cake to the box, the label might be `food` or `dessert`.\n",
    "\n",
    "You assign variables with an equals `=` sign. In Python, a single equals sign `=` is the \"assignment operator,\" whereas a double equals sign `==` is the \"real\" equals sign for doing addition, subtraction, etc."
   ]
  },
  {
   "cell_type": "code",
   "execution_count": null,
   "metadata": {},
   "outputs": [],
   "source": [
    "some_variable = 100 \n",
    "print(some_variable)"
   ]
  },
  {
   "cell_type": "code",
   "execution_count": null,
   "metadata": {},
   "outputs": [],
   "source": [
    "2 * 2 == 4"
   ]
  },
  {
   "cell_type": "code",
   "execution_count": null,
   "metadata": {},
   "outputs": [],
   "source": [
    "different_variable = \"I'm the contents of another variable!\"\n",
    "print(different_variable)"
   ]
  },
  {
   "cell_type": "markdown",
   "metadata": {},
   "source": [
    "## Working With Variables"
   ]
  },
  {
   "cell_type": "markdown",
   "metadata": {},
   "source": [
    "Variables are like wrapped boxes 🎁 with labels 🏷️ on them. When you create a variable named \"author\", imagine putting a label that says \"author\" on a box - you can put any value inside that box (like \"Shakespeare\" or \"Austen\"), and whenever your code needs to know what's in that box, it just looks at the label and opens it up. The cool part is you can change what's inside the box at any time - if you put a different author's name in there, any part of your code that looks for the \"author\" box will automatically get the new value instead. You don't have to go around updating every place that uses that author's name; they all just look inside the same box."
   ]
  },
  {
   "cell_type": "markdown",
   "metadata": {},
   "source": [
    "Take the following example: let's say I wanted to have Python print out a sentence \"I saw 5 blue cats dancing on the roof!\" One way would be to write a print statement like this:"
   ]
  },
  {
   "cell_type": "code",
   "execution_count": null,
   "metadata": {},
   "outputs": [],
   "source": [
    "print(\"I saw 5 blue cats dancing on the roof!\")"
   ]
  },
  {
   "cell_type": "markdown",
   "metadata": {},
   "source": [
    "I could also assign some variables to print the same sentence. Note: the `f` and `{}` code is just a way to print the contents of variables all in one line. Don't worry too much if you don't understand that."
   ]
  },
  {
   "cell_type": "code",
   "execution_count": null,
   "metadata": {},
   "outputs": [],
   "source": [
    "animal = \"cat\"\n",
    "color = \"blue\"\n",
    "number = 5\n",
    "\n",
    "print(f\"I saw {number} {color} {animal}s dancing on the roof!\")"
   ]
  },
  {
   "cell_type": "markdown",
   "metadata": {},
   "source": [
    "The benefit of this approach is that it's easy to update those variables if what I'm seeing on the roof keeps changing. (In this scenario I'm obviously taking advantage of Denver decriminalizing psilocybin). The type animal, color, or number might change, but I don't have to rewrite the sentence every time."
   ]
  },
  {
   "cell_type": "markdown",
   "metadata": {},
   "source": [
    "Try changing each of the variable `values` (ie. the contents their box - what is immediately after the `=`) below and run the cell to see how it changes the output)."
   ]
  },
  {
   "cell_type": "code",
   "execution_count": null,
   "metadata": {},
   "outputs": [],
   "source": [
    "animal = \"cat\"\n",
    "color = \"blue\"\n",
    "number = 5\n",
    "\n",
    "print(f\"I saw {number} {color} {animal}s dancing on the roof!\")"
   ]
  },
  {
   "cell_type": "markdown",
   "metadata": {},
   "source": [
    "Now, this example might not save us much time. But what's nice about variables is that you can change their contents without having to rewrite all your code, and you can also apply actions to those variables. Let's add a couple lines of code:"
   ]
  },
  {
   "cell_type": "code",
   "execution_count": null,
   "metadata": {},
   "outputs": [],
   "source": [
    "animal = \"cat\"\n",
    "color = \"blue\"\n",
    "number = 5\n",
    "\n",
    "print(f\"I saw {number} {color} {animal}s dancing on the roof!\")\n",
    "print(f\"Every time I see one {color} {animal}, I shout out (because I'm annoying)...\")\n",
    "for i in range(number):\n",
    "    print(f\"Wow, look!! It's a {color} {animal}! How many times have I said this? Oh right, {i+1}x!\")"
   ]
  },
  {
   "cell_type": "markdown",
   "metadata": {},
   "source": [
    "If I were **NOT using variables**, here is what the Python code would look like to get this output:"
   ]
  },
  {
   "cell_type": "code",
   "execution_count": null,
   "metadata": {},
   "outputs": [],
   "source": [
    "print(\"I saw 5 blue cats dancing on the roof!\")\n",
    "print(\"Every time I see one blue cat, I shout out (because I'm annoying)...\")\n",
    "print(\"Wow, look!! It's a blue cat! How many times have I said this? Oh right, 1x!\")\n",
    "print(\"Wow, look!! It's a blue cat! How many times have I said this? Oh right, 2x!\")\n",
    "print(\"Wow, look!! It's a blue cat! How many times have I said this? Oh right, 3x!\")\n",
    "print(\"Wow, look!! It's a blue cat! How many times have I said this? Oh right, 4x!\")\n",
    "print(\"Wow, look!! It's a blue cat! How many times have I said this? Oh right, 5x!\")"
   ]
  },
  {
   "cell_type": "markdown",
   "metadata": {},
   "source": [
    "Now, imagine I started seeing red dogs instead of blue cats. If I had NOT been using variables and typing out all of these print statements individually, I would have needed to make 14 different replacements!! (replacing `dog` for `cat` 7 times and replacing `red` for `blue` another 7 times). \n",
    "\n",
    "With variables, all I have to do is update it once, when I'm assigning the value of the two variables:   \n",
    "`animal = \"dog\"`  \n",
    "`color = \"red\"`  \n",
    "\n",
    "Furthermore if I had seen 10 cats instead of 5 cats, I wouldn't need to add 5 more lines of print statements. Again, I can just change it once when I'm assigning variables:  \n",
    "`number = 10`"
   ]
  },
  {
   "cell_type": "code",
   "execution_count": null,
   "metadata": {},
   "outputs": [],
   "source": [
    "animal = \"dog\"\n",
    "color = \"red\"\n",
    "number = 10\n",
    "\n",
    "print(f\"I saw {number} {color} {animal}s dancing on the roof!\")\n",
    "print(f\"Every time I see one {color} {animal}, I shout out (because I'm annoying)...\")\n",
    "for i in range(number):\n",
    "    print(f\"Wow, look!! It's a {color} {animal}! How many times have I said this? Oh right, {i+1}x!\")"
   ]
  },
  {
   "cell_type": "markdown",
   "metadata": {},
   "source": [
    "## Variable Names"
   ]
  },
  {
   "cell_type": "markdown",
   "metadata": {},
   "source": [
    "In the above example we named our variables `animal`, `color`,`number`.\n",
    "\n",
    "Variable names can be as long or as short as you want, and they can include:\n",
    "- ✅ upper and lower-case letters (A-Z)\n",
    "- ✅ digits (0-9)\n",
    "- ✅ underscores (_)\n",
    "\n",
    "However, variable names *cannot* include:\n",
    "- ❌ other punctuation (-.!?@)\n",
    "- ❌ spaces ( )\n",
    "- ❌ a reserved Python word"
   ]
  },
  {
   "cell_type": "markdown",
   "metadata": {},
   "source": [
    "Changing the name of the variable does not change the content of the variable, it's just a label. So instead of `animal`, we could have named that variable `furry_friend`:"
   ]
  },
  {
   "cell_type": "code",
   "execution_count": null,
   "metadata": {
    "tags": [
     "hide-output"
    ]
   },
   "outputs": [],
   "source": [
    "animal = \"cat\"\n",
    "furry_friend = \"cat\"\n",
    "print(furry_friend)"
   ]
  },
  {
   "cell_type": "markdown",
   "metadata": {},
   "source": [
    "In fact, we could literally call the variable just about anything we want (like `pancakes` or even a single letter like `f`). However, it's **best practice** to use a descriptive name for the variable that points towards what kind of content it has inside it."
   ]
  },
  {
   "cell_type": "code",
   "execution_count": null,
   "metadata": {
    "tags": [
     "hide-output"
    ]
   },
   "outputs": [],
   "source": [
    "pancakes = \"cat\"\n",
    "f = \"cat\"\n",
    "print(pancakes)\n",
    "print(f)"
   ]
  },
  {
   "cell_type": "markdown",
   "metadata": {},
   "source": [
    "### Striving for Good Variable Names"
   ]
  },
  {
   "cell_type": "markdown",
   "metadata": {},
   "source": [
    "As you start to code, you will almost certainly be tempted to use extremely short variables names like `f`. Your fingers will get tired. Your coffee will wear off. You will see other people using variables like `f`. You'll promise yourself that you'll definitely remember what `f` means. But you probably won't.\n",
    "\n",
    "So, resist the temptation of bad variable names! Clear and precisely-named variables will:\n",
    "\n",
    "* make your code more readable (both to yourself and others)\n",
    "* reinforce your understanding of Python and what's happening in the code\n",
    "* clarify and strengthen your thinking\n"
   ]
  },
  {
   "cell_type": "markdown",
   "metadata": {},
   "source": [
    "**Example Python Code ❌ With Unclear Variable Names❌**"
   ]
  },
  {
   "cell_type": "markdown",
   "metadata": {},
   "source": [
    "For the sake of illustration, here's some of our same word count Python code with poorly named variables. The code works exactly the same as our original code, but it's a lot harder to read **as code**."
   ]
  },
  {
   "cell_type": "code",
   "execution_count": null,
   "metadata": {
    "scrolled": true
   },
   "outputs": [],
   "source": [
    "f = \"cat\"\n",
    "x7gh = \"blue\"\n",
    "banana_phone = 5\n",
    "\n",
    "print(f\"I saw {banana_phone} {x7gh} {f}s dancing on the roof!\")\n",
    "print(f\"Every time I see one {x7gh} {f}, I shout out (because I'm annoying)...\")\n",
    "for i in range(banana_phone):\n",
    "    print(f\"Wow, look!! It's a {x7gh} {f}! How many times have I said this? Oh right, {i+1}x!\")"
   ]
  },
  {
   "cell_type": "markdown",
   "metadata": {},
   "source": [
    "**Our original Python Code ✨ With Clearer Variable Names ✨**"
   ]
  },
  {
   "cell_type": "code",
   "execution_count": null,
   "metadata": {},
   "outputs": [],
   "source": [
    "animal = \"cat\"\n",
    "color = \"blue\"\n",
    "number = 5\n",
    "\n",
    "print(f\"I saw {number} {color} {animal}s dancing on the roof!\")\n",
    "print(f\"Every time I see one {color} {animal}, I shout out (because I'm annoying)...\")\n",
    "for i in range(number):\n",
    "    print(f\"Wow, look!! It's a {color} {animal}! How many times have I said this? Oh right, {i+1}x!\")"
   ]
  },
  {
   "cell_type": "markdown",
   "metadata": {},
   "source": [
    "### Off-Limits Names"
   ]
  },
  {
   "cell_type": "markdown",
   "metadata": {},
   "source": [
    "The only variable names that are off-limits are names that are reserved by, or built into, the Python programming language itself — such as `print`, `True`, and `list`.\n",
    "\n",
    "This is not something to worry too much about. You'll know very quickly if a name is reserved by Python because it will show up in green and often give you an error message."
   ]
  },
  {
   "cell_type": "code",
   "execution_count": null,
   "metadata": {},
   "outputs": [],
   "source": [
    "True = \"cat\""
   ]
  },
  {
   "cell_type": "markdown",
   "metadata": {},
   "source": [
    "## Your Turn"
   ]
  },
  {
   "cell_type": "markdown",
   "metadata": {
    "jp-MarkdownHeadingCollapsed": true
   },
   "source": [
    "### \"My Favorite Things\" Exercise:\n",
    "* Insert a new code cell\n",
    "  * Create three variables that hold information about your favorite book/movie:\n",
    "    - One for the title\n",
    "    - One for the year it was released\n",
    "    - One for the main character's name\n",
    "  * Then use these variables to print out two different sentences about your favorite book/movie\n",
    "* Now create a **second code cell**. Use the same code as the first cell, but change the values of the variables to be about a different book/movie. Use the same print statements to see how your variables have changed between the two code cells."
   ]
  },
  {
   "cell_type": "markdown",
   "metadata": {},
   "source": [
    "## Submit Your Jupyter Notebook"
   ]
  },
  {
   "cell_type": "markdown",
   "metadata": {},
   "source": [
    "Once you've finished, please submit this tutorial to Canvas (note: this doesn't \"count\" as an official homework, it's just to practice submitting material on Canvas and to nudge you to complete the tutorial). Follow [the instructions](https://cblevins.github.io/sp25-data/assignments/coding-homework/) I've made for submitting homework and then submit your files to the corresponding [assignment page on Canvas](https://ucdenver.instructure.com/courses/552717/assignments/1911173). \n",
    "\n",
    "- Save your notebook\n",
    "- `Kernel` -> `Restart Kernel and Run All Cells`\n",
    "- `File` -> `Print` and try to find an option to Save/Print to PDF. Depending on your operating system and browser, this might be `Destination` -> `Save as PDF`, `Select Printer` -> `Microsoft Print to PDF` ([instructions for different browsers](https://xodo.com/blog/how-to-save-webpage-as-pdf)). Name the file with the same naming convention as your .ipynb file (ie. `hw-01-yourlastname.pdf`) and save the resulting PDF file (ending in `.pdf`) into the same folder.\n",
    "\n",
    "Note: use the naming convention `yourlastname-jupyter-notebooks-intro.ipynb` & `yourlastname-jupyter-notebooks-intro.pdf`. This will help us troubleshoot the pipeline for submitting to Canvas and make sure that this pipeline also works on my end."
   ]
  },
  {
   "cell_type": "code",
   "execution_count": null,
   "metadata": {},
   "outputs": [],
   "source": []
  }
 ],
 "metadata": {
  "kernelspec": {
   "display_name": "Python [conda env:base] *",
   "language": "python",
   "name": "conda-base-py"
  },
  "language_info": {
   "codemirror_mode": {
    "name": "ipython",
    "version": 3
   },
   "file_extension": ".py",
   "mimetype": "text/x-python",
   "name": "python",
   "nbconvert_exporter": "python",
   "pygments_lexer": "ipython3",
   "version": "3.12.7"
  }
 },
 "nbformat": 4,
 "nbformat_minor": 4
}
