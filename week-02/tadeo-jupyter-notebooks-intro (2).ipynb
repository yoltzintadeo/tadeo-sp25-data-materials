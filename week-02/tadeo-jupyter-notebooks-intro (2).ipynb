{
 "cells": [
  {
   "cell_type": "markdown",
   "metadata": {},
   "source": [
    "### ⚠️ Before you start ⚠️ \n",
    "_Duplicate this Jupyter Notebook in your `week-02` folder (right-click -> Duplicate) and then your last name to the beginning of it (ie. `blevins-jupyter-notebook-intro.ipynb` - otherwise you risk having all your work overwritten when you try to sync your GitHub repository with your instructor's repository._ "
   ]
  },
  {
   "cell_type": "markdown",
   "metadata": {},
   "source": [
    "⚠️ _No, seriously: check the name of this file. Is it the copy you made? (ie. `blevins-jupyter-notebook-intro.ipynb`). If so, you can proceed_ ⚠️"
   ]
  },
  {
   "cell_type": "markdown",
   "metadata": {},
   "source": [
    "----"
   ]
  },
  {
   "cell_type": "markdown",
   "metadata": {},
   "source": [
    "## Getting Started With Jupyter Notebooks"
   ]
  },
  {
   "cell_type": "markdown",
   "metadata": {},
   "source": [
    "We're going to be using Jupyter Notebooks to write and run Python code. Jupyter notebooks are made up of cells - a chunk of text or code, kind of like a paragraph. There are a few different types of cells: `Markdown` vs. `Code`. "
   ]
  },
  {
   "cell_type": "markdown",
   "metadata": {},
   "source": [
    "### A Markdown Cell\n",
    "\n",
    "Markdown is basically a fancy form of text (like you'd type in a Microsoft Word file or Google Doc). In Jupyter Notebooks, you use Markdown cells to explain and document your code cells. You can do things like make a words **bold** or _italics_, add headers, insert hyperlinks, etc. \n",
    "\n",
    "Let's practice - [here's a reference sheet for common Markdown formatting](https://www.markdownguide.org/cheat-sheet/)\n",
    "\n",
    "1. Write your name in the cell and make it bold\n",
    "\n",
    "2. Write the title of this class in the cell and turn it into a hyperlink to the course website.\n",
    "\n",
    "3. Run the cell to see if it's rendering correctly"
   ]
  },
  {
   "cell_type": "markdown",
   "metadata": {},
   "source": []
  },
  {
   "cell_type": "markdown",
   "metadata": {},
   "source": [
    "### A Code Cell"
   ]
  },
  {
   "cell_type": "markdown",
   "metadata": {},
   "source": [
    "Unlike the above Markdown cells, Jupyter Notebook also has `code` cells. For our purposes, we're going to be primarily filling these cells with Python code. You run/execute a **code** cell using `Shift-Enter` or by pressing the `Run (play)` ▶️ button in the toolbar. Make sure your cursor is inside the following code cell by clicking inside it, and then try running the code cell:"
   ]
  },
  {
   "cell_type": "code",
   "execution_count": null,
   "metadata": {},
   "outputs": [],
   "source": [
    "print(\"Welcome to HIST 4261/5261!\")"
   ]
  },
  {
   "cell_type": "markdown",
   "metadata": {},
   "source": [
    "Notice that when you `Run` the above code cell, it uses the ```print``` function to print out whatever is inside the parentheses. With a lot of programming languages, print doesn’t mean “print something on paper”; it means “show me this on the screen.”\n",
    "Try writing your own similar code in the next empty cell that, when you run it, **will print a greeting of some kind for your instructor**:"
   ]
  },
  {
   "cell_type": "code",
   "execution_count": null,
   "metadata": {},
   "outputs": [],
   "source": []
  },
  {
   "cell_type": "markdown",
   "metadata": {},
   "source": [
    "When you run a `code` cell, it tries to execute the code. But what happens if you make a mistake in your code and spell something wrong? You'll get an error when you try to run it. To see what I mean, I've made a typo in the following code cell. Try running the cell to see what an error looks like:"
   ]
  },
  {
   "cell_type": "code",
   "execution_count": null,
   "metadata": {},
   "outputs": [],
   "source": [
    "print(\"Debugging code means dealing with lots of error messages!\""
   ]
  },
  {
   "cell_type": "markdown",
   "metadata": {},
   "source": [
    "Compare the above code cell with the print statements in the earlier code cells. **Can you spot the error?** Try to fix it in the cell below - run the cell to see if you were successful:"
   ]
  },
  {
   "cell_type": "code",
   "execution_count": null,
   "metadata": {},
   "outputs": [],
   "source": []
  },
  {
   "cell_type": "markdown",
   "metadata": {},
   "source": [
    "### Working With Cells"
   ]
  },
  {
   "cell_type": "markdown",
   "metadata": {},
   "source": [
    "Again, each cell in a Jupyter Notebook is like a short paragraph or sentence. Learning how to work with them is important. Some things to keep in mind:\n",
    "\n",
    "- Edit vs. Command mode:\n",
    "  - When you're in Edit mode - ie. you're inside the cell - you are actively typing and changing its contents (ie. text/code). To activate edit mode, double click or hit the `Enter` key - think of this as activating \"edit mode\" just for that cell. To leave edit mode, hit the `Esc` key.\n",
    "  - When you're in Command mode, you can do things TO the overaching cell, but not WITHIN the cell - ie. you can run it, delete it, copy it, move it, etc.\n",
    "- Adding a new cell: click the `+` sign in the menu bar, or click immediately to left of a cell (activating Command mode) and use keyboard shortcut `b` to insert a cell \"below\" or `a` to insert a cell above that cell.\n",
    "- Markdown vs. Code cells: always check the type of cell - you should see either `Markdown` or `Code` in the dropdown on the top menu bar, and you can change the type through that dropdown menu. Code cells also have brackets `[ ]:` to the left of them.\n",
    "- You can move cells around to rearrange them - hover over the left side of the cell and click, hold, and drag it up or down.\n",
    "- You can delete a cell by right-clicking to the left of the cell and selecting `Delete` or clicking to the left of the cell and typing `d` twice (`d` `d`)."
   ]
  },
  {
   "cell_type": "markdown",
   "metadata": {},
   "source": [
    "### Add Your Own Cells"
   ]
  },
  {
   "cell_type": "markdown",
   "metadata": {},
   "source": [
    "Insert new cells immediately after this one.\n",
    "\n",
    "- Cell 1 (Markdown): Write a sentence about your favorite kind of animal in Markdown.\n",
    "- Cell 2 (Code): Use the same `print()` code you used above to have Python print out an identical sentence."
   ]
  },
  {
   "cell_type": "markdown",
   "metadata": {},
   "source": [
    "----"
   ]
  },
  {
   "cell_type": "markdown",
   "metadata": {},
   "source": [
    "### Submitting Jupyter Notebooks as Coding Homeworks"
   ]
  },
  {
   "cell_type": "markdown",
   "metadata": {},
   "source": [
    "Once you've finished, we're going to pretend this is one of your coding homeworks and go through the process of submitting it to Canvas. Follow [the instructions](https://cblevins.github.io/sp25-data/assignments/coding-homework/) I've made for submitting homework and then submit your files to the corresponding [Sample Homework assignment page on Canvas](https://ucdenver.instructure.com/courses/552717/assignments/1909947). \n",
    "\n",
    "- Save your notebook\n",
    "- `Kernel` -> `Restart Kernel and Run All Cells`\n",
    "- `File` -> `Print` and try to find an option to Save/Print to PDF. Depending on your operating system and browser, this might be `Destination` -> `Save as PDF`, `Select Printer` -> `Microsoft Print to PDF` ([instructions for different browsers](https://xodo.com/blog/how-to-save-webpage-as-pdf)). Name the file with the same naming convention as your .ipynb file (ie. `hw-01-yourlastname.pdf`) and save the resulting PDF file (ending in `.pdf`) into the same folder.\n",
    "\n",
    "Note: use the naming convention `yourlastname-jupyter-notebooks-intro.ipynb` & `yourlastname-jupyter-notebooks-intro.pdf`. This will help us troubleshoot the pipeline for submitting to Canvas and make sure that this pipeline also works on my end."
   ]
  },
  {
   "cell_type": "code",
   "execution_count": null,
   "metadata": {},
   "outputs": [],
   "source": []
  }
 ],
 "metadata": {
  "kernelspec": {
   "display_name": "Python [conda env:base] *",
   "language": "python",
   "name": "conda-base-py"
  },
  "language_info": {
   "codemirror_mode": {
    "name": "ipython",
    "version": 3
   },
   "file_extension": ".py",
   "mimetype": "text/x-python",
   "name": "python",
   "nbconvert_exporter": "python",
   "pygments_lexer": "ipython3",
   "version": "3.12.7"
  },
  "panel-cell-order": [
   "cb08d320",
   "5bc4643b",
   "6b83fdd8",
   "2487e84d",
   "b8bce9fa",
   "1adadaf8",
   "a7de6b02",
   "bce5f0aa",
   "dc8bc3a1",
   "9e14696f",
   "eea530fa",
   "bcaa2787",
   "cfb709d1",
   "a566f5a7",
   "15c533fc",
   "f913fc32",
   "80589325",
   "6ce92483",
   "2cd26977",
   "b7a6bde6",
   "8d412b41",
   "3edab9eb",
   "a6fc4a03",
   "017d084f",
   "d99356db",
   "85e071c0",
   "1d486ece",
   "1b3debe2",
   "eed6d926",
   "6ac20ae1",
   "73321cac",
   "a353f85c",
   "5f78f391",
   "e228dced",
   "3698f722",
   "ec858563",
   "6188b826",
   "a52aacca",
   "40901a65",
   "5ac498ff"
  ]
 },
 "nbformat": 4,
 "nbformat_minor": 4
}
